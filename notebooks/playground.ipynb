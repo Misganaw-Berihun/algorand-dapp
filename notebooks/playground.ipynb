{
 "cells": [
  {
   "cell_type": "code",
   "execution_count": 5,
   "metadata": {},
   "outputs": [
    {
     "name": "stdout",
     "output_type": "stream",
     "text": [
      "Account 1\n",
      "PBXAJOJLKYYDAANOX3BVH5PUZDWRWDQNW4ESN4BS6IXBJ7N2LMQZBCTYIM\n",
      "Account 2\n",
      "WE4TS2INUIXLQY5JRN473T7W4BPHNRZ7BKML22HLQUIDIFYJWSUT4CANZU\n",
      "Account 3\n",
      "GVQTK6U7SRYY26KVXT674YR7CC76WXWH3JMGZWP6PZDR2YETHEPJSFWANQ\n",
      "\n",
      "Copy off accounts above and add TestNet Algo funds using the TestNet Dispenser at https://bank.testnet.algorand.network/\n",
      "copy off the following mnemonic code for use later\n",
      "\n",
      "mnemonic1 = \"pitch fluid patch dignity interest clap model expand diesel lion argue silent toward average jewel sniff satisfy habit gold coach obtain captain sign abandon orphan\"\n",
      "mnemonic2 = \"endorse around tackle cave ski cart spray position ketchup grass divorce recall dirt business finish arch leader two ten turn home rebel retire about then\"\n",
      "mnemonic3 = \"breeze kick valid weather purchase mule trap butter hello crush minute impose frog peasant marine wagon dry total antenna rare furnace hurt wise absent march\"\n"
     ]
    }
   ],
   "source": [
    "import json\n",
    "from algosdk import account, mnemonic, transaction\n",
    "\n",
    "acct = account.generate_account()\n",
    "pk1 = acct[0]\n",
    "address1 = acct[1]\n",
    "print(\"Account 1\")\n",
    "print(address1)\n",
    "mnemonic1 = mnemonic.from_private_key(acct[0])\n",
    "\n",
    "print(\"Account 2\")\n",
    "acct = account.generate_account()\n",
    "pk2 = acct[0]\n",
    "address2 = acct[1]\n",
    "print(address2)\n",
    "mnemonic2 = mnemonic.from_private_key(acct[0])\n",
    "\n",
    "print(\"Account 3\")\n",
    "acct = account.generate_account()\n",
    "pk3 = acct[0]\n",
    "address3 = acct[1]\n",
    "print(address3)\n",
    "mnemonic3 = mnemonic.from_private_key(acct[0])\n",
    "print (\"\")\n",
    "print(\"Copy off accounts above and add TestNet Algo funds using the TestNet Dispenser at https://bank.testnet.algorand.network/\")\n",
    "print(\"copy off the following mnemonic code for use later\")\n",
    "print(\"\")\n",
    "print(\"mnemonic1 = \\\"{}\\\"\".format(mnemonic1))\n",
    "print(\"mnemonic2 = \\\"{}\\\"\".format(mnemonic2))\n",
    "print(\"mnemonic3 = \\\"{}\\\"\".format(mnemonic3))"
   ]
  },
  {
   "cell_type": "code",
   "execution_count": 2,
   "metadata": {},
   "outputs": [],
   "source": [
    "from algosdk.v2client import algod\n",
    "import json \n",
    "\n",
    "algod_address = \"http://localhost:4001\"\n",
    "algod_token = \"aaaaaaaaaaaaaaaaaaaaaaaaaaaaaaaaaaaaaaaaaaaaaaaaaaaaaaaaaaaaaaaa\" \n",
    "\n",
    "algod_client = algod.AlgodClient(algod_token, algod_address)"
   ]
  },
  {
   "cell_type": "code",
   "execution_count": 58,
   "metadata": {},
   "outputs": [
    {
     "name": "stdout",
     "output_type": "stream",
     "text": [
      "Account 1 balance: 0 microAlgos\n",
      "Account 2 balance: 0 microAlgos\n",
      "Account 3 balance: 0 microAlgos\n"
     ]
    }
   ],
   "source": [
    "account_info1 = algod_client.account_info(address1)\n",
    "balance1 = account_info1.get('amount')\n",
    "print('Account 1 balance: {} microAlgos'.format(balance1))\n",
    "\n",
    "account_info2 = algod_client.account_info(address2)\n",
    "balance2 = account_info2.get('amount')\n",
    "print('Account 2 balance: {} microAlgos'.format(balance2))\n",
    "\n",
    "account_info3 = algod_client.account_info(address3)\n",
    "balance3 = account_info3.get('amount')\n",
    "print('Account 3 balance: {} microAlgos'.format(balance3))\n"
   ]
  },
  {
   "cell_type": "code",
   "execution_count": 64,
   "metadata": {},
   "outputs": [],
   "source": []
  },
  {
   "cell_type": "code",
   "execution_count": null,
   "metadata": {},
   "outputs": [],
   "source": []
  },
  {
   "cell_type": "markdown",
   "metadata": {},
   "source": [
    "### creating an asset"
   ]
  },
  {
   "cell_type": "code",
   "execution_count": 48,
   "metadata": {},
   "outputs": [
    {
     "ename": "AlgodHTTPError",
     "evalue": "TransactionPool.Remember: transaction JY7KVDRB7VTAA3335OQA32ROAOON6MVJDNCH5HHRYM3645GXC7GA: overspend (account U2QPOBCWZGSEYNIBXYVLSWYSSE32FH2EHJZ42EBOX4VODLUIHNRT537QYE, data {AccountBaseData:{Status:Offline MicroAlgos:{Raw:0} RewardsBase:0 RewardedMicroAlgos:{Raw:0} AuthAddr:AAAAAAAAAAAAAAAAAAAAAAAAAAAAAAAAAAAAAAAAAAAAAAAAAAAAY5HFKQ TotalAppSchema:{_struct:{} NumUint:0 NumByteSlice:0} TotalExtraAppPages:0 TotalAppParams:0 TotalAppLocalStates:0 TotalAssetParams:0 TotalAssets:0 TotalBoxes:0 TotalBoxBytes:0} VotingData:{VoteID:[0 0 0 0 0 0 0 0 0 0 0 0 0 0 0 0 0 0 0 0 0 0 0 0 0 0 0 0 0 0 0 0] SelectionID:[0 0 0 0 0 0 0 0 0 0 0 0 0 0 0 0 0 0 0 0 0 0 0 0 0 0 0 0 0 0 0 0] StateProofID:[0 0 0 0 0 0 0 0 0 0 0 0 0 0 0 0 0 0 0 0 0 0 0 0 0 0 0 0 0 0 0 0 0 0 0 0 0 0 0 0 0 0 0 0 0 0 0 0 0 0 0 0 0 0 0 0 0 0 0 0 0 0 0 0] VoteFirstValid:0 VoteLastValid:0 VoteKeyDilution:0}}, tried to spend {1000})",
     "output_type": "error",
     "traceback": [
      "\u001b[0;31m---------------------------------------------------------------------------\u001b[0m",
      "\u001b[0;31mHTTPError\u001b[0m                                 Traceback (most recent call last)",
      "File \u001b[0;32m~/miniconda3/envs/wk5/lib/python3.12/site-packages/algosdk/v2client/algod.py:104\u001b[0m, in \u001b[0;36mAlgodClient.algod_request\u001b[0;34m(self, method, requrl, params, data, headers, response_format)\u001b[0m\n\u001b[1;32m    103\u001b[0m \u001b[38;5;28;01mtry\u001b[39;00m:\n\u001b[0;32m--> 104\u001b[0m     resp \u001b[38;5;241m=\u001b[39m \u001b[43murlopen\u001b[49m\u001b[43m(\u001b[49m\u001b[43mreq\u001b[49m\u001b[43m)\u001b[49m\n\u001b[1;32m    105\u001b[0m \u001b[38;5;28;01mexcept\u001b[39;00m urllib\u001b[38;5;241m.\u001b[39merror\u001b[38;5;241m.\u001b[39mHTTPError \u001b[38;5;28;01mas\u001b[39;00m e:\n",
      "File \u001b[0;32m~/miniconda3/envs/wk5/lib/python3.12/urllib/request.py:215\u001b[0m, in \u001b[0;36murlopen\u001b[0;34m(url, data, timeout, cafile, capath, cadefault, context)\u001b[0m\n\u001b[1;32m    214\u001b[0m     opener \u001b[38;5;241m=\u001b[39m _opener\n\u001b[0;32m--> 215\u001b[0m \u001b[38;5;28;01mreturn\u001b[39;00m \u001b[43mopener\u001b[49m\u001b[38;5;241;43m.\u001b[39;49m\u001b[43mopen\u001b[49m\u001b[43m(\u001b[49m\u001b[43murl\u001b[49m\u001b[43m,\u001b[49m\u001b[43m \u001b[49m\u001b[43mdata\u001b[49m\u001b[43m,\u001b[49m\u001b[43m \u001b[49m\u001b[43mtimeout\u001b[49m\u001b[43m)\u001b[49m\n",
      "File \u001b[0;32m~/miniconda3/envs/wk5/lib/python3.12/urllib/request.py:521\u001b[0m, in \u001b[0;36mOpenerDirector.open\u001b[0;34m(self, fullurl, data, timeout)\u001b[0m\n\u001b[1;32m    520\u001b[0m     meth \u001b[38;5;241m=\u001b[39m \u001b[38;5;28mgetattr\u001b[39m(processor, meth_name)\n\u001b[0;32m--> 521\u001b[0m     response \u001b[38;5;241m=\u001b[39m \u001b[43mmeth\u001b[49m\u001b[43m(\u001b[49m\u001b[43mreq\u001b[49m\u001b[43m,\u001b[49m\u001b[43m \u001b[49m\u001b[43mresponse\u001b[49m\u001b[43m)\u001b[49m\n\u001b[1;32m    523\u001b[0m \u001b[38;5;28;01mreturn\u001b[39;00m response\n",
      "File \u001b[0;32m~/miniconda3/envs/wk5/lib/python3.12/urllib/request.py:630\u001b[0m, in \u001b[0;36mHTTPErrorProcessor.http_response\u001b[0;34m(self, request, response)\u001b[0m\n\u001b[1;32m    629\u001b[0m \u001b[38;5;28;01mif\u001b[39;00m \u001b[38;5;129;01mnot\u001b[39;00m (\u001b[38;5;241m200\u001b[39m \u001b[38;5;241m<\u001b[39m\u001b[38;5;241m=\u001b[39m code \u001b[38;5;241m<\u001b[39m \u001b[38;5;241m300\u001b[39m):\n\u001b[0;32m--> 630\u001b[0m     response \u001b[38;5;241m=\u001b[39m \u001b[38;5;28;43mself\u001b[39;49m\u001b[38;5;241;43m.\u001b[39;49m\u001b[43mparent\u001b[49m\u001b[38;5;241;43m.\u001b[39;49m\u001b[43merror\u001b[49m\u001b[43m(\u001b[49m\n\u001b[1;32m    631\u001b[0m \u001b[43m        \u001b[49m\u001b[38;5;124;43m'\u001b[39;49m\u001b[38;5;124;43mhttp\u001b[39;49m\u001b[38;5;124;43m'\u001b[39;49m\u001b[43m,\u001b[49m\u001b[43m \u001b[49m\u001b[43mrequest\u001b[49m\u001b[43m,\u001b[49m\u001b[43m \u001b[49m\u001b[43mresponse\u001b[49m\u001b[43m,\u001b[49m\u001b[43m \u001b[49m\u001b[43mcode\u001b[49m\u001b[43m,\u001b[49m\u001b[43m \u001b[49m\u001b[43mmsg\u001b[49m\u001b[43m,\u001b[49m\u001b[43m \u001b[49m\u001b[43mhdrs\u001b[49m\u001b[43m)\u001b[49m\n\u001b[1;32m    633\u001b[0m \u001b[38;5;28;01mreturn\u001b[39;00m response\n",
      "File \u001b[0;32m~/miniconda3/envs/wk5/lib/python3.12/urllib/request.py:559\u001b[0m, in \u001b[0;36mOpenerDirector.error\u001b[0;34m(self, proto, *args)\u001b[0m\n\u001b[1;32m    558\u001b[0m args \u001b[38;5;241m=\u001b[39m (\u001b[38;5;28mdict\u001b[39m, \u001b[38;5;124m'\u001b[39m\u001b[38;5;124mdefault\u001b[39m\u001b[38;5;124m'\u001b[39m, \u001b[38;5;124m'\u001b[39m\u001b[38;5;124mhttp_error_default\u001b[39m\u001b[38;5;124m'\u001b[39m) \u001b[38;5;241m+\u001b[39m orig_args\n\u001b[0;32m--> 559\u001b[0m \u001b[38;5;28;01mreturn\u001b[39;00m \u001b[38;5;28;43mself\u001b[39;49m\u001b[38;5;241;43m.\u001b[39;49m\u001b[43m_call_chain\u001b[49m\u001b[43m(\u001b[49m\u001b[38;5;241;43m*\u001b[39;49m\u001b[43margs\u001b[49m\u001b[43m)\u001b[49m\n",
      "File \u001b[0;32m~/miniconda3/envs/wk5/lib/python3.12/urllib/request.py:492\u001b[0m, in \u001b[0;36mOpenerDirector._call_chain\u001b[0;34m(self, chain, kind, meth_name, *args)\u001b[0m\n\u001b[1;32m    491\u001b[0m func \u001b[38;5;241m=\u001b[39m \u001b[38;5;28mgetattr\u001b[39m(handler, meth_name)\n\u001b[0;32m--> 492\u001b[0m result \u001b[38;5;241m=\u001b[39m \u001b[43mfunc\u001b[49m\u001b[43m(\u001b[49m\u001b[38;5;241;43m*\u001b[39;49m\u001b[43margs\u001b[49m\u001b[43m)\u001b[49m\n\u001b[1;32m    493\u001b[0m \u001b[38;5;28;01mif\u001b[39;00m result \u001b[38;5;129;01mis\u001b[39;00m \u001b[38;5;129;01mnot\u001b[39;00m \u001b[38;5;28;01mNone\u001b[39;00m:\n",
      "File \u001b[0;32m~/miniconda3/envs/wk5/lib/python3.12/urllib/request.py:639\u001b[0m, in \u001b[0;36mHTTPDefaultErrorHandler.http_error_default\u001b[0;34m(self, req, fp, code, msg, hdrs)\u001b[0m\n\u001b[1;32m    638\u001b[0m \u001b[38;5;28;01mdef\u001b[39;00m \u001b[38;5;21mhttp_error_default\u001b[39m(\u001b[38;5;28mself\u001b[39m, req, fp, code, msg, hdrs):\n\u001b[0;32m--> 639\u001b[0m     \u001b[38;5;28;01mraise\u001b[39;00m HTTPError(req\u001b[38;5;241m.\u001b[39mfull_url, code, msg, hdrs, fp)\n",
      "\u001b[0;31mHTTPError\u001b[0m: HTTP Error 400: Bad Request",
      "\nDuring handling of the above exception, another exception occurred:\n",
      "\u001b[0;31mAlgodHTTPError\u001b[0m                            Traceback (most recent call last)",
      "Cell \u001b[0;32mIn[48], line 28\u001b[0m\n\u001b[1;32m     26\u001b[0m stxn \u001b[38;5;241m=\u001b[39m txn\u001b[38;5;241m.\u001b[39msign(pk1)\n\u001b[1;32m     27\u001b[0m \u001b[38;5;66;03m# Send the transaction to the network and retrieve the txid.\u001b[39;00m\n\u001b[0;32m---> 28\u001b[0m txid \u001b[38;5;241m=\u001b[39m \u001b[43malgod_client\u001b[49m\u001b[38;5;241;43m.\u001b[39;49m\u001b[43msend_transaction\u001b[49m\u001b[43m(\u001b[49m\u001b[43mstxn\u001b[49m\u001b[43m)\u001b[49m\n\u001b[1;32m     29\u001b[0m \u001b[38;5;28mprint\u001b[39m(\u001b[38;5;124mf\u001b[39m\u001b[38;5;124m\"\u001b[39m\u001b[38;5;124mSent asset create transaction with txid: \u001b[39m\u001b[38;5;132;01m{\u001b[39;00mtxid\u001b[38;5;132;01m}\u001b[39;00m\u001b[38;5;124m\"\u001b[39m)\n\u001b[1;32m     30\u001b[0m \u001b[38;5;66;03m# Wait for the transaction to be confirmed\u001b[39;00m\n",
      "File \u001b[0;32m~/miniconda3/envs/wk5/lib/python3.12/site-packages/algosdk/v2client/algod.py:331\u001b[0m, in \u001b[0;36mAlgodClient.send_transaction\u001b[0;34m(self, txn, **kwargs)\u001b[0m\n\u001b[1;32m    318\u001b[0m \u001b[38;5;250m\u001b[39m\u001b[38;5;124;03m\"\"\"\u001b[39;00m\n\u001b[1;32m    319\u001b[0m \u001b[38;5;124;03mBroadcast a signed transaction object to the network.\u001b[39;00m\n\u001b[1;32m    320\u001b[0m \n\u001b[0;32m   (...)\u001b[0m\n\u001b[1;32m    326\u001b[0m \u001b[38;5;124;03m    str: transaction ID\u001b[39;00m\n\u001b[1;32m    327\u001b[0m \u001b[38;5;124;03m\"\"\"\u001b[39;00m\n\u001b[1;32m    328\u001b[0m \u001b[38;5;28;01massert\u001b[39;00m \u001b[38;5;129;01mnot\u001b[39;00m \u001b[38;5;28misinstance\u001b[39m(\n\u001b[1;32m    329\u001b[0m     txn, transaction\u001b[38;5;241m.\u001b[39mTransaction\n\u001b[1;32m    330\u001b[0m ), \u001b[38;5;124m\"\u001b[39m\u001b[38;5;124mAttempt to send UNSUPPORTED type of transaction \u001b[39m\u001b[38;5;132;01m{}\u001b[39;00m\u001b[38;5;124m\"\u001b[39m\u001b[38;5;241m.\u001b[39mformat(txn)\n\u001b[0;32m--> 331\u001b[0m \u001b[38;5;28;01mreturn\u001b[39;00m \u001b[38;5;28;43mself\u001b[39;49m\u001b[38;5;241;43m.\u001b[39;49m\u001b[43msend_raw_transaction\u001b[49m\u001b[43m(\u001b[49m\n\u001b[1;32m    332\u001b[0m \u001b[43m    \u001b[49m\u001b[43mencoding\u001b[49m\u001b[38;5;241;43m.\u001b[39;49m\u001b[43mmsgpack_encode\u001b[49m\u001b[43m(\u001b[49m\u001b[43mtxn\u001b[49m\u001b[43m)\u001b[49m\u001b[43m,\u001b[49m\u001b[43m \u001b[49m\u001b[38;5;241;43m*\u001b[39;49m\u001b[38;5;241;43m*\u001b[39;49m\u001b[43mkwargs\u001b[49m\n\u001b[1;32m    333\u001b[0m \u001b[43m\u001b[49m\u001b[43m)\u001b[49m\n",
      "File \u001b[0;32m~/miniconda3/envs/wk5/lib/python3.12/site-packages/algosdk/v2client/algod.py:358\u001b[0m, in \u001b[0;36mAlgodClient.send_raw_transaction\u001b[0;34m(self, txn, **kwargs)\u001b[0m\n\u001b[1;32m    352\u001b[0m headers \u001b[38;5;241m=\u001b[39m util\u001b[38;5;241m.\u001b[39mbuild_headers_from(\n\u001b[1;32m    353\u001b[0m     kwargs\u001b[38;5;241m.\u001b[39mget(\u001b[38;5;124m\"\u001b[39m\u001b[38;5;124mheaders\u001b[39m\u001b[38;5;124m\"\u001b[39m, \u001b[38;5;28;01mFalse\u001b[39;00m),\n\u001b[1;32m    354\u001b[0m     {\u001b[38;5;124m\"\u001b[39m\u001b[38;5;124mContent-Type\u001b[39m\u001b[38;5;124m\"\u001b[39m: \u001b[38;5;124m\"\u001b[39m\u001b[38;5;124mapplication/x-binary\u001b[39m\u001b[38;5;124m\"\u001b[39m},\n\u001b[1;32m    355\u001b[0m )\n\u001b[1;32m    356\u001b[0m kwargs[\u001b[38;5;124m\"\u001b[39m\u001b[38;5;124mheaders\u001b[39m\u001b[38;5;124m\"\u001b[39m] \u001b[38;5;241m=\u001b[39m headers\n\u001b[0;32m--> 358\u001b[0m resp \u001b[38;5;241m=\u001b[39m \u001b[38;5;28;43mself\u001b[39;49m\u001b[38;5;241;43m.\u001b[39;49m\u001b[43malgod_request\u001b[49m\u001b[43m(\u001b[49m\u001b[38;5;124;43m\"\u001b[39;49m\u001b[38;5;124;43mPOST\u001b[39;49m\u001b[38;5;124;43m\"\u001b[39;49m\u001b[43m,\u001b[49m\u001b[43m \u001b[49m\u001b[43mreq\u001b[49m\u001b[43m,\u001b[49m\u001b[43m \u001b[49m\u001b[43mdata\u001b[49m\u001b[38;5;241;43m=\u001b[39;49m\u001b[43mtxn_bytes\u001b[49m\u001b[43m,\u001b[49m\u001b[43m \u001b[49m\u001b[38;5;241;43m*\u001b[39;49m\u001b[38;5;241;43m*\u001b[39;49m\u001b[43mkwargs\u001b[49m\u001b[43m)\u001b[49m\n\u001b[1;32m    359\u001b[0m \u001b[38;5;28;01mreturn\u001b[39;00m cast(\u001b[38;5;28mstr\u001b[39m, cast(\u001b[38;5;28mdict\u001b[39m, resp)[\u001b[38;5;124m\"\u001b[39m\u001b[38;5;124mtxId\u001b[39m\u001b[38;5;124m\"\u001b[39m])\n",
      "File \u001b[0;32m~/miniconda3/envs/wk5/lib/python3.12/site-packages/algosdk/v2client/algod.py:111\u001b[0m, in \u001b[0;36mAlgodClient.algod_request\u001b[0;34m(self, method, requrl, params, data, headers, response_format)\u001b[0m\n\u001b[1;32m    109\u001b[0m         e \u001b[38;5;241m=\u001b[39m json\u001b[38;5;241m.\u001b[39mloads(es)[\u001b[38;5;124m\"\u001b[39m\u001b[38;5;124mmessage\u001b[39m\u001b[38;5;124m\"\u001b[39m]\n\u001b[1;32m    110\u001b[0m     \u001b[38;5;28;01mfinally\u001b[39;00m:\n\u001b[0;32m--> 111\u001b[0m         \u001b[38;5;28;01mraise\u001b[39;00m error\u001b[38;5;241m.\u001b[39mAlgodHTTPError(e, code)\n\u001b[1;32m    112\u001b[0m \u001b[38;5;28;01mif\u001b[39;00m response_format \u001b[38;5;241m==\u001b[39m \u001b[38;5;124m\"\u001b[39m\u001b[38;5;124mjson\u001b[39m\u001b[38;5;124m\"\u001b[39m:\n\u001b[1;32m    113\u001b[0m     \u001b[38;5;28;01mtry\u001b[39;00m:\n",
      "\u001b[0;31mAlgodHTTPError\u001b[0m: TransactionPool.Remember: transaction JY7KVDRB7VTAA3335OQA32ROAOON6MVJDNCH5HHRYM3645GXC7GA: overspend (account U2QPOBCWZGSEYNIBXYVLSWYSSE32FH2EHJZ42EBOX4VODLUIHNRT537QYE, data {AccountBaseData:{Status:Offline MicroAlgos:{Raw:0} RewardsBase:0 RewardedMicroAlgos:{Raw:0} AuthAddr:AAAAAAAAAAAAAAAAAAAAAAAAAAAAAAAAAAAAAAAAAAAAAAAAAAAAY5HFKQ TotalAppSchema:{_struct:{} NumUint:0 NumByteSlice:0} TotalExtraAppPages:0 TotalAppParams:0 TotalAppLocalStates:0 TotalAssetParams:0 TotalAssets:0 TotalBoxes:0 TotalBoxBytes:0} VotingData:{VoteID:[0 0 0 0 0 0 0 0 0 0 0 0 0 0 0 0 0 0 0 0 0 0 0 0 0 0 0 0 0 0 0 0] SelectionID:[0 0 0 0 0 0 0 0 0 0 0 0 0 0 0 0 0 0 0 0 0 0 0 0 0 0 0 0 0 0 0 0] StateProofID:[0 0 0 0 0 0 0 0 0 0 0 0 0 0 0 0 0 0 0 0 0 0 0 0 0 0 0 0 0 0 0 0 0 0 0 0 0 0 0 0 0 0 0 0 0 0 0 0 0 0 0 0 0 0 0 0 0 0 0 0 0 0 0 0] VoteFirstValid:0 VoteLastValid:0 VoteKeyDilution:0}}, tried to spend {1000})"
     ]
    }
   ],
   "source": [
    "from algosdk.v2client import algod\n",
    "from algosdk import transaction\n",
    "import json \n",
    "\n",
    "algod_address = \"http://localhost:4001\"\n",
    "algod_token = \"aaaaaaaaaaaaaaaaaaaaaaaaaaaaaaaaaaaaaaaaaaaaaaaaaaaaaaaaaaaaaaaa\" \n",
    "\n",
    "algod_client = algod.AlgodClient(algod_token, algod_address)\n",
    "sp = algod_client.suggested_params()\n",
    "txn = transaction.AssetConfigTxn(\n",
    "    sender=address1,\n",
    "    sp=sp,\n",
    "    default_frozen=False,\n",
    "    unit_name=\"rug\",\n",
    "    asset_name=\"Really Useful Gift\",\n",
    "    manager=address1,\n",
    "    reserve=address1,\n",
    "    freeze=address1,\n",
    "    clawback=address1,\n",
    "    url=\"https://path/to/my/asset/details\",\n",
    "    total=1,\n",
    "    decimals=0,\n",
    ")\n",
    "\n",
    "# Sign with secret key of creator\n",
    "stxn = txn.sign(pk1)\n",
    "# Send the transaction to the network and retrieve the txid.\n",
    "txid = algod_client.send_transaction(stxn)\n",
    "print(f\"Sent asset create transaction with txid: {txid}\")\n",
    "# Wait for the transaction to be confirmed\n",
    "results = transaction.wait_for_confirmation(algod_client, txid, 4)\n",
    "print(f\"Result confirmed in round: {results['confirmed-round']}\")\n",
    "\n",
    "# grab the asset id for the asset we just created\n",
    "created_asset = results[\"asset-index\"]\n",
    "print(f\"Asset ID created: {created_asset}\")\n"
   ]
  },
  {
   "cell_type": "markdown",
   "metadata": {},
   "source": [
    "### pinata\n"
   ]
  },
  {
   "cell_type": "code",
   "execution_count": 91,
   "metadata": {},
   "outputs": [
    {
     "data": {
      "text/plain": [
       "'http://blue-deliberate-tyrannosaurus-532.mypinata.cloud/ipfs/QmQEA2YasZHhzLg3Fo7rtzjvBwD5oAi3Hab9qDB49cqsNL'"
      ]
     },
     "execution_count": 91,
     "metadata": {},
     "output_type": "execute_result"
    }
   ],
   "source": [
    "import requests\n",
    "from requests_toolbelt.multipart.encoder import MultipartEncoder\n",
    "import json\n",
    "\n",
    "JWT = 'Bearer eyJhbGciOiJIUzI1NiIsInR5cCI6IkpXVCJ9.eyJ1c2VySW5mb3JtYXRpb24iOnsiaWQiOiJhYTI2ZGU2OS0wMTEwLTRmMWQtYjFhNi02YTE5YzhmNGIxZjMiLCJlbWFpbCI6Im1zZ2FuYXdiZXJpaHVuMTBAZ21haWwuY29tIiwiZW1haWxfdmVyaWZpZWQiOnRydWUsInBpbl9wb2xpY3kiOnsicmVnaW9ucyI6W3siaWQiOiJGUkExIiwiZGVzaXJlZFJlcGxpY2F0aW9uQ291bnQiOjF9LHsiaWQiOiJOWUMxIiwiZGVzaXJlZFJlcGxpY2F0aW9uQ291bnQiOjF9XSwidmVyc2lvbiI6MX0sIm1mYV9lbmFibGVkIjpmYWxzZSwic3RhdHVzIjoiQUNUSVZFIn0sImF1dGhlbnRpY2F0aW9uVHlwZSI6InNjb3BlZEtleSIsInNjb3BlZEtleUtleSI6IjM1NGZhMWI4YWNjMGNiYjk3ZTUzIiwic2NvcGVkS2V5U2VjcmV0IjoiOGVjZTk2MzIyN2JmMzIwM2IzZTE5OTQ4YjBiZDllZjJiOGNmZDA1OThkMmJmMTliNTRiNzZiMDgxZjQ5M2JlOSIsImlhdCI6MTcwNTA2NDk3Mn0.aeYS6De46yTacViF4OUMwPDUWfH22GQttgYkYQqaoFw'\n",
    "\n",
    "def pin_file_to_ipfs(name):\n",
    "    url = \"https://api.pinata.cloud/pinning/pinFileToIPFS\"\n",
    "    src = \"../scripts/output_certificate.jpg\"\n",
    "\n",
    "    # Create a multipart encoder for the file and metadata\n",
    "    multipart_data = MultipartEncoder(\n",
    "        fields={\n",
    "            'file': (f'{name}.png', open(src, 'rb'), 'image/png'),\n",
    "            'pinataMetadata': json.dumps({'name': f'{name}'}),\n",
    "            'pinataOptions': json.dumps({'cidVersion': 0})\n",
    "        }\n",
    "    )\n",
    "\n",
    "    headers = {\n",
    "        'Content-Type': multipart_data.content_type,\n",
    "        'Authorization': JWT\n",
    "    }\n",
    "\n",
    "    try:\n",
    "        response = requests.post(url, data=multipart_data, headers=headers)\n",
    "        return response.json()\n",
    "    except Exception as e:\n",
    "        print(e)\n",
    "        return None\n",
    "\n",
    "# Call the function\n",
    "res = pin_file_to_ipfs(\"misge\")\n",
    "gateway = \"blue-deliberate-tyrannosaurus-532.mypinata.cloud\"\n",
    "link = f\"http://{gateway}/ipfs/{res['IpfsHash']}\"\n",
    "link\n"
   ]
  },
  {
   "cell_type": "code",
   "execution_count": null,
   "metadata": {},
   "outputs": [],
   "source": []
  },
  {
   "cell_type": "markdown",
   "metadata": {},
   "source": [
    "## First transaction\n"
   ]
  },
  {
   "cell_type": "code",
   "execution_count": null,
   "metadata": {},
   "outputs": [],
   "source": []
  },
  {
   "cell_type": "code",
   "execution_count": 61,
   "metadata": {},
   "outputs": [
    {
     "name": "stdout",
     "output_type": "stream",
     "text": [
      "address: CK23DUMJ6HOT763GTR54OMUVGBJUF42NE5SVA6FDZMSLVAJYY7HPJMNJKY\n",
      "private key: pYTEmKdYyt5Bq8x+6XG0ckQqT8gzPiMpCjvzgdYsVMIStbHRifHdP/tmnHvHMpUwU0LzTSdlUHijyyS6gTjHzg==\n",
      "mnemonic: net bamboo small media net jeans foam smile cool sibling focus elbow fee because oxygen dilemma caught chunk outside busy public arctic bargain absorb spatial\n"
     ]
    }
   ],
   "source": [
    "private_key, address = account.generate_account()\n",
    "print(f\"address: {address}\")\n",
    "print(f\"private key: {private_key}\")\n",
    "print(f\"mnemonic: {mnemonic.from_private_key(private_key)}\")"
   ]
  },
  {
   "cell_type": "code",
   "execution_count": 78,
   "metadata": {},
   "outputs": [
    {
     "data": {
      "text/plain": [
       "'j299CI+yN4oF1qhoymvZmkaJYuAakRmMv1WFZvGdLLdbbCe7cl+hofUW+lgc6kmMqVHgoAE91+JItjq7USFK/w=='"
      ]
     },
     "execution_count": 78,
     "metadata": {},
     "output_type": "execute_result"
    }
   ],
   "source": [
    "memo = \"vehicle volcano loud cigar hunt glad rabbit potato escape quality hole have barely board strike much lobster wreck print hair tissue cherry ride absent rent\"\n",
    "private = mnemonic.to_private_key(memo)\n",
    "address = \"MOBXTM2XM5QUWERNPY4564XELXV6BDKZ5KJ2WVBACUWVHGQSDSR74WI2NY\"\n",
    "private\n"
   ]
  },
  {
   "cell_type": "code",
   "execution_count": 9,
   "metadata": {},
   "outputs": [],
   "source": [
    "# Create a new algod client, configured to connect to our local sandbox\n",
    "algod_address = \"http://localhost:4001\"\n",
    "algod_token = \"a\" * 64\n",
    "algod_client = algod.AlgodClient(algod_token, algod_address)\n",
    "\n"
   ]
  },
  {
   "cell_type": "code",
   "execution_count": null,
   "metadata": {},
   "outputs": [],
   "source": []
  },
  {
   "cell_type": "markdown",
   "metadata": {},
   "source": [
    "### Creating an Asset"
   ]
  },
  {
   "cell_type": "code",
   "execution_count": 3,
   "metadata": {},
   "outputs": [],
   "source": [
    "memo1 = \"appear position client wait exotic chair observe kitchen able brain enemy quantum reopen stock slide winter actress hollow dutch sniff cute balance size absorb human\"\n",
    "pk1 = mnemonic.to_private_key(memo1)\n",
    "pub1 = \"AXTRKY5BFZN57QXL26KLAEH533VC46MWMS7OBSGQQ5LQUML6P3NZGJPEAM\"\n",
    "\n",
    "mem2 = \"vehicle volcano loud cigar hunt glad rabbit potato escape quality hole have barely board strike much lobster wreck print hair tissue cherry ride absent rent\"\n",
    "pk2 = mnemonic.to_private_key(mem2)\n",
    "pub2 = \"LNWCPO3SL6Q2D5IW7JMBZ2SJRSUVDYFAAE65PYSIWY5LWUJBJL7RI2LOUA\""
   ]
  },
  {
   "cell_type": "code",
   "execution_count": 11,
   "metadata": {},
   "outputs": [
    {
     "name": "stdout",
     "output_type": "stream",
     "text": [
      "Account balance: 999999993997000 microAlgos\n"
     ]
    }
   ],
   "source": [
    "account_info = algod_client.account_info(pub1)\n",
    "print(f\"Account balance: {account_info.get('amount')} microAlgos\")"
   ]
  },
  {
   "cell_type": "code",
   "execution_count": 12,
   "metadata": {},
   "outputs": [
    {
     "ename": "AlgodHTTPError",
     "evalue": "transaction {_struct:{} Sig:[66 219 170 15 25 54 254 197 175 171 33 233 201 255 33 177 216 136 234 186 186 100 1 217 227 247 151 139 171 87 142 40 48 43 32 233 213 238 242 55 22 57 38 86 89 135 210 161 107 147 152 242 3 232 127 46 197 149 247 68 70 49 64 7] Msig:{_struct:{} Version:0 Threshold:0 Subsigs:[]} Lsig:{_struct:{} Logic:[] Sig:[0 0 0 0 0 0 0 0 0 0 0 0 0 0 0 0 0 0 0 0 0 0 0 0 0 0 0 0 0 0 0 0 0 0 0 0 0 0 0 0 0 0 0 0 0 0 0 0 0 0 0 0 0 0 0 0 0 0 0 0 0 0 0 0] Msig:{_struct:{} Version:0 Threshold:0 Subsigs:[]} Args:[]} Txn:{_struct:{} Type:acfg Header:{_struct:{} Sender:AXTRKY5BFZN57QXL26KLAEH533VC46MWMS7OBSGQQ5LQUML6P3NZGJPEAM Fee:{Raw:1000} FirstValid:428 LastValid:1428 Note:[] GenesisID:sandnet-v1 GenesisHash:NMAKHZIBTTRZ2MGVEVVCNSBHA2J6V2QXJALWCRSJSKXLWYL7B7RA Group:AAAAAAAAAAAAAAAAAAAAAAAAAAAAAAAAAAAAAAAAAAAAAAAAAAAA Lease:[0 0 0 0 0 0 0 0 0 0 0 0 0 0 0 0 0 0 0 0 0 0 0 0 0 0 0 0 0 0 0 0] RekeyTo:AAAAAAAAAAAAAAAAAAAAAAAAAAAAAAAAAAAAAAAAAAAAAAAAAAAAY5HFKQ} KeyregTxnFields:{_struct:{} VotePK:[0 0 0 0 0 0 0 0 0 0 0 0 0 0 0 0 0 0 0 0 0 0 0 0 0 0 0 0 0 0 0 0] SelectionPK:[0 0 0 0 0 0 0 0 0 0 0 0 0 0 0 0 0 0 0 0 0 0 0 0 0 0 0 0 0 0 0 0] StateProofPK:[0 0 0 0 0 0 0 0 0 0 0 0 0 0 0 0 0 0 0 0 0 0 0 0 0 0 0 0 0 0 0 0 0 0 0 0 0 0 0 0 0 0 0 0 0 0 0 0 0 0 0 0 0 0 0 0 0 0 0 0 0 0 0 0] VoteFirst:0 VoteLast:0 VoteKeyDilution:0 Nonparticipation:false} PaymentTxnFields:{_struct:{} Receiver:AAAAAAAAAAAAAAAAAAAAAAAAAAAAAAAAAAAAAAAAAAAAAAAAAAAAY5HFKQ Amount:{Raw:0} CloseRemainderTo:AAAAAAAAAAAAAAAAAAAAAAAAAAAAAAAAAAAAAAAAAAAAAAAAAAAAY5HFKQ} AssetConfigTxnFields:{_struct:{} ConfigAsset:0 AssetParams:{_struct:{} Total:1 Decimals:0 DefaultFrozen:false UnitName:rug AssetName:Really Useful Gift URL:http://blue-deliberate-tyrannosaurus-532.mypinata.cloud/ipfs/QmQEA2YasZHhzLg3Fo7rtzjvBwD5oAi3Hab9qDB49cqsNL MetadataHash:[0 0 0 0 0 0 0 0 0 0 0 0 0 0 0 0 0 0 0 0 0 0 0 0 0 0 0 0 0 0 0 0] Manager:AXTRKY5BFZN57QXL26KLAEH533VC46MWMS7OBSGQQ5LQUML6P3NZGJPEAM Reserve:AXTRKY5BFZN57QXL26KLAEH533VC46MWMS7OBSGQQ5LQUML6P3NZGJPEAM Freeze:AXTRKY5BFZN57QXL26KLAEH533VC46MWMS7OBSGQQ5LQUML6P3NZGJPEAM Clawback:AXTRKY5BFZN57QXL26KLAEH533VC46MWMS7OBSGQQ5LQUML6P3NZGJPEAM}} AssetTransferTxnFields:{_struct:{} XferAsset:0 AssetAmount:0 AssetSender:AAAAAAAAAAAAAAAAAAAAAAAAAAAAAAAAAAAAAAAAAAAAAAAAAAAAY5HFKQ AssetReceiver:AAAAAAAAAAAAAAAAAAAAAAAAAAAAAAAAAAAAAAAAAAAAAAAAAAAAY5HFKQ AssetCloseTo:AAAAAAAAAAAAAAAAAAAAAAAAAAAAAAAAAAAAAAAAAAAAAAAAAAAAY5HFKQ} AssetFreezeTxnFields:{_struct:{} FreezeAccount:AAAAAAAAAAAAAAAAAAAAAAAAAAAAAAAAAAAAAAAAAAAAAAAAAAAAY5HFKQ FreezeAsset:0 AssetFrozen:false} ApplicationCallTxnFields:{_struct:{} ApplicationID:0 OnCompletion:NoOpOC ApplicationArgs:[] Accounts:[] ForeignApps:[] Boxes:[] ForeignAssets:[] LocalStateSchema:{_struct:{} NumUint:0 NumByteSlice:0} GlobalStateSchema:{_struct:{} NumUint:0 NumByteSlice:0} ApprovalProgram:[] ClearStateProgram:[] ExtraProgramPages:0} StateProofTxnFields:{_struct:{} StateProofType:0 StateProof:StateProof: {} Message:{_struct:{} BlockHeadersCommitment:[] VotersCommitment:[] LnProvenWeight:0 FirstAttestedRound:0 LastAttestedRound:0}}} AuthAddr:PBXAJOJLKYYDAANOX3BVH5PUZDWRWDQNW4ESN4BS6IXBJ7N2LMQZBCTYIM} invalid : transaction asset url too big: 107 > 96",
     "output_type": "error",
     "traceback": [
      "\u001b[0;31m---------------------------------------------------------------------------\u001b[0m",
      "\u001b[0;31mHTTPError\u001b[0m                                 Traceback (most recent call last)",
      "File \u001b[0;32m~/miniconda3/envs/wk5/lib/python3.12/site-packages/algosdk/v2client/algod.py:104\u001b[0m, in \u001b[0;36mAlgodClient.algod_request\u001b[0;34m(self, method, requrl, params, data, headers, response_format)\u001b[0m\n\u001b[1;32m    103\u001b[0m \u001b[38;5;28;01mtry\u001b[39;00m:\n\u001b[0;32m--> 104\u001b[0m     resp \u001b[38;5;241m=\u001b[39m \u001b[43murlopen\u001b[49m\u001b[43m(\u001b[49m\u001b[43mreq\u001b[49m\u001b[43m)\u001b[49m\n\u001b[1;32m    105\u001b[0m \u001b[38;5;28;01mexcept\u001b[39;00m urllib\u001b[38;5;241m.\u001b[39merror\u001b[38;5;241m.\u001b[39mHTTPError \u001b[38;5;28;01mas\u001b[39;00m e:\n",
      "File \u001b[0;32m~/miniconda3/envs/wk5/lib/python3.12/urllib/request.py:215\u001b[0m, in \u001b[0;36murlopen\u001b[0;34m(url, data, timeout, cafile, capath, cadefault, context)\u001b[0m\n\u001b[1;32m    214\u001b[0m     opener \u001b[38;5;241m=\u001b[39m _opener\n\u001b[0;32m--> 215\u001b[0m \u001b[38;5;28;01mreturn\u001b[39;00m \u001b[43mopener\u001b[49m\u001b[38;5;241;43m.\u001b[39;49m\u001b[43mopen\u001b[49m\u001b[43m(\u001b[49m\u001b[43murl\u001b[49m\u001b[43m,\u001b[49m\u001b[43m \u001b[49m\u001b[43mdata\u001b[49m\u001b[43m,\u001b[49m\u001b[43m \u001b[49m\u001b[43mtimeout\u001b[49m\u001b[43m)\u001b[49m\n",
      "File \u001b[0;32m~/miniconda3/envs/wk5/lib/python3.12/urllib/request.py:521\u001b[0m, in \u001b[0;36mOpenerDirector.open\u001b[0;34m(self, fullurl, data, timeout)\u001b[0m\n\u001b[1;32m    520\u001b[0m     meth \u001b[38;5;241m=\u001b[39m \u001b[38;5;28mgetattr\u001b[39m(processor, meth_name)\n\u001b[0;32m--> 521\u001b[0m     response \u001b[38;5;241m=\u001b[39m \u001b[43mmeth\u001b[49m\u001b[43m(\u001b[49m\u001b[43mreq\u001b[49m\u001b[43m,\u001b[49m\u001b[43m \u001b[49m\u001b[43mresponse\u001b[49m\u001b[43m)\u001b[49m\n\u001b[1;32m    523\u001b[0m \u001b[38;5;28;01mreturn\u001b[39;00m response\n",
      "File \u001b[0;32m~/miniconda3/envs/wk5/lib/python3.12/urllib/request.py:630\u001b[0m, in \u001b[0;36mHTTPErrorProcessor.http_response\u001b[0;34m(self, request, response)\u001b[0m\n\u001b[1;32m    629\u001b[0m \u001b[38;5;28;01mif\u001b[39;00m \u001b[38;5;129;01mnot\u001b[39;00m (\u001b[38;5;241m200\u001b[39m \u001b[38;5;241m<\u001b[39m\u001b[38;5;241m=\u001b[39m code \u001b[38;5;241m<\u001b[39m \u001b[38;5;241m300\u001b[39m):\n\u001b[0;32m--> 630\u001b[0m     response \u001b[38;5;241m=\u001b[39m \u001b[38;5;28;43mself\u001b[39;49m\u001b[38;5;241;43m.\u001b[39;49m\u001b[43mparent\u001b[49m\u001b[38;5;241;43m.\u001b[39;49m\u001b[43merror\u001b[49m\u001b[43m(\u001b[49m\n\u001b[1;32m    631\u001b[0m \u001b[43m        \u001b[49m\u001b[38;5;124;43m'\u001b[39;49m\u001b[38;5;124;43mhttp\u001b[39;49m\u001b[38;5;124;43m'\u001b[39;49m\u001b[43m,\u001b[49m\u001b[43m \u001b[49m\u001b[43mrequest\u001b[49m\u001b[43m,\u001b[49m\u001b[43m \u001b[49m\u001b[43mresponse\u001b[49m\u001b[43m,\u001b[49m\u001b[43m \u001b[49m\u001b[43mcode\u001b[49m\u001b[43m,\u001b[49m\u001b[43m \u001b[49m\u001b[43mmsg\u001b[49m\u001b[43m,\u001b[49m\u001b[43m \u001b[49m\u001b[43mhdrs\u001b[49m\u001b[43m)\u001b[49m\n\u001b[1;32m    633\u001b[0m \u001b[38;5;28;01mreturn\u001b[39;00m response\n",
      "File \u001b[0;32m~/miniconda3/envs/wk5/lib/python3.12/urllib/request.py:559\u001b[0m, in \u001b[0;36mOpenerDirector.error\u001b[0;34m(self, proto, *args)\u001b[0m\n\u001b[1;32m    558\u001b[0m args \u001b[38;5;241m=\u001b[39m (\u001b[38;5;28mdict\u001b[39m, \u001b[38;5;124m'\u001b[39m\u001b[38;5;124mdefault\u001b[39m\u001b[38;5;124m'\u001b[39m, \u001b[38;5;124m'\u001b[39m\u001b[38;5;124mhttp_error_default\u001b[39m\u001b[38;5;124m'\u001b[39m) \u001b[38;5;241m+\u001b[39m orig_args\n\u001b[0;32m--> 559\u001b[0m \u001b[38;5;28;01mreturn\u001b[39;00m \u001b[38;5;28;43mself\u001b[39;49m\u001b[38;5;241;43m.\u001b[39;49m\u001b[43m_call_chain\u001b[49m\u001b[43m(\u001b[49m\u001b[38;5;241;43m*\u001b[39;49m\u001b[43margs\u001b[49m\u001b[43m)\u001b[49m\n",
      "File \u001b[0;32m~/miniconda3/envs/wk5/lib/python3.12/urllib/request.py:492\u001b[0m, in \u001b[0;36mOpenerDirector._call_chain\u001b[0;34m(self, chain, kind, meth_name, *args)\u001b[0m\n\u001b[1;32m    491\u001b[0m func \u001b[38;5;241m=\u001b[39m \u001b[38;5;28mgetattr\u001b[39m(handler, meth_name)\n\u001b[0;32m--> 492\u001b[0m result \u001b[38;5;241m=\u001b[39m \u001b[43mfunc\u001b[49m\u001b[43m(\u001b[49m\u001b[38;5;241;43m*\u001b[39;49m\u001b[43margs\u001b[49m\u001b[43m)\u001b[49m\n\u001b[1;32m    493\u001b[0m \u001b[38;5;28;01mif\u001b[39;00m result \u001b[38;5;129;01mis\u001b[39;00m \u001b[38;5;129;01mnot\u001b[39;00m \u001b[38;5;28;01mNone\u001b[39;00m:\n",
      "File \u001b[0;32m~/miniconda3/envs/wk5/lib/python3.12/urllib/request.py:639\u001b[0m, in \u001b[0;36mHTTPDefaultErrorHandler.http_error_default\u001b[0;34m(self, req, fp, code, msg, hdrs)\u001b[0m\n\u001b[1;32m    638\u001b[0m \u001b[38;5;28;01mdef\u001b[39;00m \u001b[38;5;21mhttp_error_default\u001b[39m(\u001b[38;5;28mself\u001b[39m, req, fp, code, msg, hdrs):\n\u001b[0;32m--> 639\u001b[0m     \u001b[38;5;28;01mraise\u001b[39;00m HTTPError(req\u001b[38;5;241m.\u001b[39mfull_url, code, msg, hdrs, fp)\n",
      "\u001b[0;31mHTTPError\u001b[0m: HTTP Error 400: Bad Request",
      "\nDuring handling of the above exception, another exception occurred:\n",
      "\u001b[0;31mAlgodHTTPError\u001b[0m                            Traceback (most recent call last)",
      "Cell \u001b[0;32mIn[12], line 22\u001b[0m\n\u001b[1;32m     20\u001b[0m stxn \u001b[38;5;241m=\u001b[39m txn\u001b[38;5;241m.\u001b[39msign(pk1)\n\u001b[1;32m     21\u001b[0m \u001b[38;5;66;03m# Send the transaction to the network and retrieve the txid.\u001b[39;00m\n\u001b[0;32m---> 22\u001b[0m txid \u001b[38;5;241m=\u001b[39m \u001b[43malgod_client\u001b[49m\u001b[38;5;241;43m.\u001b[39;49m\u001b[43msend_transaction\u001b[49m\u001b[43m(\u001b[49m\u001b[43mstxn\u001b[49m\u001b[43m)\u001b[49m\n\u001b[1;32m     23\u001b[0m \u001b[38;5;28mprint\u001b[39m(\u001b[38;5;124mf\u001b[39m\u001b[38;5;124m\"\u001b[39m\u001b[38;5;124mSent asset create transaction with txid: \u001b[39m\u001b[38;5;132;01m{\u001b[39;00mtxid\u001b[38;5;132;01m}\u001b[39;00m\u001b[38;5;124m\"\u001b[39m)\n\u001b[1;32m     24\u001b[0m \u001b[38;5;66;03m# Wait for the transaction to be confirmed\u001b[39;00m\n",
      "File \u001b[0;32m~/miniconda3/envs/wk5/lib/python3.12/site-packages/algosdk/v2client/algod.py:331\u001b[0m, in \u001b[0;36mAlgodClient.send_transaction\u001b[0;34m(self, txn, **kwargs)\u001b[0m\n\u001b[1;32m    318\u001b[0m \u001b[38;5;250m\u001b[39m\u001b[38;5;124;03m\"\"\"\u001b[39;00m\n\u001b[1;32m    319\u001b[0m \u001b[38;5;124;03mBroadcast a signed transaction object to the network.\u001b[39;00m\n\u001b[1;32m    320\u001b[0m \n\u001b[0;32m   (...)\u001b[0m\n\u001b[1;32m    326\u001b[0m \u001b[38;5;124;03m    str: transaction ID\u001b[39;00m\n\u001b[1;32m    327\u001b[0m \u001b[38;5;124;03m\"\"\"\u001b[39;00m\n\u001b[1;32m    328\u001b[0m \u001b[38;5;28;01massert\u001b[39;00m \u001b[38;5;129;01mnot\u001b[39;00m \u001b[38;5;28misinstance\u001b[39m(\n\u001b[1;32m    329\u001b[0m     txn, transaction\u001b[38;5;241m.\u001b[39mTransaction\n\u001b[1;32m    330\u001b[0m ), \u001b[38;5;124m\"\u001b[39m\u001b[38;5;124mAttempt to send UNSUPPORTED type of transaction \u001b[39m\u001b[38;5;132;01m{}\u001b[39;00m\u001b[38;5;124m\"\u001b[39m\u001b[38;5;241m.\u001b[39mformat(txn)\n\u001b[0;32m--> 331\u001b[0m \u001b[38;5;28;01mreturn\u001b[39;00m \u001b[38;5;28;43mself\u001b[39;49m\u001b[38;5;241;43m.\u001b[39;49m\u001b[43msend_raw_transaction\u001b[49m\u001b[43m(\u001b[49m\n\u001b[1;32m    332\u001b[0m \u001b[43m    \u001b[49m\u001b[43mencoding\u001b[49m\u001b[38;5;241;43m.\u001b[39;49m\u001b[43mmsgpack_encode\u001b[49m\u001b[43m(\u001b[49m\u001b[43mtxn\u001b[49m\u001b[43m)\u001b[49m\u001b[43m,\u001b[49m\u001b[43m \u001b[49m\u001b[38;5;241;43m*\u001b[39;49m\u001b[38;5;241;43m*\u001b[39;49m\u001b[43mkwargs\u001b[49m\n\u001b[1;32m    333\u001b[0m \u001b[43m\u001b[49m\u001b[43m)\u001b[49m\n",
      "File \u001b[0;32m~/miniconda3/envs/wk5/lib/python3.12/site-packages/algosdk/v2client/algod.py:358\u001b[0m, in \u001b[0;36mAlgodClient.send_raw_transaction\u001b[0;34m(self, txn, **kwargs)\u001b[0m\n\u001b[1;32m    352\u001b[0m headers \u001b[38;5;241m=\u001b[39m util\u001b[38;5;241m.\u001b[39mbuild_headers_from(\n\u001b[1;32m    353\u001b[0m     kwargs\u001b[38;5;241m.\u001b[39mget(\u001b[38;5;124m\"\u001b[39m\u001b[38;5;124mheaders\u001b[39m\u001b[38;5;124m\"\u001b[39m, \u001b[38;5;28;01mFalse\u001b[39;00m),\n\u001b[1;32m    354\u001b[0m     {\u001b[38;5;124m\"\u001b[39m\u001b[38;5;124mContent-Type\u001b[39m\u001b[38;5;124m\"\u001b[39m: \u001b[38;5;124m\"\u001b[39m\u001b[38;5;124mapplication/x-binary\u001b[39m\u001b[38;5;124m\"\u001b[39m},\n\u001b[1;32m    355\u001b[0m )\n\u001b[1;32m    356\u001b[0m kwargs[\u001b[38;5;124m\"\u001b[39m\u001b[38;5;124mheaders\u001b[39m\u001b[38;5;124m\"\u001b[39m] \u001b[38;5;241m=\u001b[39m headers\n\u001b[0;32m--> 358\u001b[0m resp \u001b[38;5;241m=\u001b[39m \u001b[38;5;28;43mself\u001b[39;49m\u001b[38;5;241;43m.\u001b[39;49m\u001b[43malgod_request\u001b[49m\u001b[43m(\u001b[49m\u001b[38;5;124;43m\"\u001b[39;49m\u001b[38;5;124;43mPOST\u001b[39;49m\u001b[38;5;124;43m\"\u001b[39;49m\u001b[43m,\u001b[49m\u001b[43m \u001b[49m\u001b[43mreq\u001b[49m\u001b[43m,\u001b[49m\u001b[43m \u001b[49m\u001b[43mdata\u001b[49m\u001b[38;5;241;43m=\u001b[39;49m\u001b[43mtxn_bytes\u001b[49m\u001b[43m,\u001b[49m\u001b[43m \u001b[49m\u001b[38;5;241;43m*\u001b[39;49m\u001b[38;5;241;43m*\u001b[39;49m\u001b[43mkwargs\u001b[49m\u001b[43m)\u001b[49m\n\u001b[1;32m    359\u001b[0m \u001b[38;5;28;01mreturn\u001b[39;00m cast(\u001b[38;5;28mstr\u001b[39m, cast(\u001b[38;5;28mdict\u001b[39m, resp)[\u001b[38;5;124m\"\u001b[39m\u001b[38;5;124mtxId\u001b[39m\u001b[38;5;124m\"\u001b[39m])\n",
      "File \u001b[0;32m~/miniconda3/envs/wk5/lib/python3.12/site-packages/algosdk/v2client/algod.py:111\u001b[0m, in \u001b[0;36mAlgodClient.algod_request\u001b[0;34m(self, method, requrl, params, data, headers, response_format)\u001b[0m\n\u001b[1;32m    109\u001b[0m         e \u001b[38;5;241m=\u001b[39m json\u001b[38;5;241m.\u001b[39mloads(es)[\u001b[38;5;124m\"\u001b[39m\u001b[38;5;124mmessage\u001b[39m\u001b[38;5;124m\"\u001b[39m]\n\u001b[1;32m    110\u001b[0m     \u001b[38;5;28;01mfinally\u001b[39;00m:\n\u001b[0;32m--> 111\u001b[0m         \u001b[38;5;28;01mraise\u001b[39;00m error\u001b[38;5;241m.\u001b[39mAlgodHTTPError(e, code)\n\u001b[1;32m    112\u001b[0m \u001b[38;5;28;01mif\u001b[39;00m response_format \u001b[38;5;241m==\u001b[39m \u001b[38;5;124m\"\u001b[39m\u001b[38;5;124mjson\u001b[39m\u001b[38;5;124m\"\u001b[39m:\n\u001b[1;32m    113\u001b[0m     \u001b[38;5;28;01mtry\u001b[39;00m:\n",
      "\u001b[0;31mAlgodHTTPError\u001b[0m: transaction {_struct:{} Sig:[66 219 170 15 25 54 254 197 175 171 33 233 201 255 33 177 216 136 234 186 186 100 1 217 227 247 151 139 171 87 142 40 48 43 32 233 213 238 242 55 22 57 38 86 89 135 210 161 107 147 152 242 3 232 127 46 197 149 247 68 70 49 64 7] Msig:{_struct:{} Version:0 Threshold:0 Subsigs:[]} Lsig:{_struct:{} Logic:[] Sig:[0 0 0 0 0 0 0 0 0 0 0 0 0 0 0 0 0 0 0 0 0 0 0 0 0 0 0 0 0 0 0 0 0 0 0 0 0 0 0 0 0 0 0 0 0 0 0 0 0 0 0 0 0 0 0 0 0 0 0 0 0 0 0 0] Msig:{_struct:{} Version:0 Threshold:0 Subsigs:[]} Args:[]} Txn:{_struct:{} Type:acfg Header:{_struct:{} Sender:AXTRKY5BFZN57QXL26KLAEH533VC46MWMS7OBSGQQ5LQUML6P3NZGJPEAM Fee:{Raw:1000} FirstValid:428 LastValid:1428 Note:[] GenesisID:sandnet-v1 GenesisHash:NMAKHZIBTTRZ2MGVEVVCNSBHA2J6V2QXJALWCRSJSKXLWYL7B7RA Group:AAAAAAAAAAAAAAAAAAAAAAAAAAAAAAAAAAAAAAAAAAAAAAAAAAAA Lease:[0 0 0 0 0 0 0 0 0 0 0 0 0 0 0 0 0 0 0 0 0 0 0 0 0 0 0 0 0 0 0 0] RekeyTo:AAAAAAAAAAAAAAAAAAAAAAAAAAAAAAAAAAAAAAAAAAAAAAAAAAAAY5HFKQ} KeyregTxnFields:{_struct:{} VotePK:[0 0 0 0 0 0 0 0 0 0 0 0 0 0 0 0 0 0 0 0 0 0 0 0 0 0 0 0 0 0 0 0] SelectionPK:[0 0 0 0 0 0 0 0 0 0 0 0 0 0 0 0 0 0 0 0 0 0 0 0 0 0 0 0 0 0 0 0] StateProofPK:[0 0 0 0 0 0 0 0 0 0 0 0 0 0 0 0 0 0 0 0 0 0 0 0 0 0 0 0 0 0 0 0 0 0 0 0 0 0 0 0 0 0 0 0 0 0 0 0 0 0 0 0 0 0 0 0 0 0 0 0 0 0 0 0] VoteFirst:0 VoteLast:0 VoteKeyDilution:0 Nonparticipation:false} PaymentTxnFields:{_struct:{} Receiver:AAAAAAAAAAAAAAAAAAAAAAAAAAAAAAAAAAAAAAAAAAAAAAAAAAAAY5HFKQ Amount:{Raw:0} CloseRemainderTo:AAAAAAAAAAAAAAAAAAAAAAAAAAAAAAAAAAAAAAAAAAAAAAAAAAAAY5HFKQ} AssetConfigTxnFields:{_struct:{} ConfigAsset:0 AssetParams:{_struct:{} Total:1 Decimals:0 DefaultFrozen:false UnitName:rug AssetName:Really Useful Gift URL:http://blue-deliberate-tyrannosaurus-532.mypinata.cloud/ipfs/QmQEA2YasZHhzLg3Fo7rtzjvBwD5oAi3Hab9qDB49cqsNL MetadataHash:[0 0 0 0 0 0 0 0 0 0 0 0 0 0 0 0 0 0 0 0 0 0 0 0 0 0 0 0 0 0 0 0] Manager:AXTRKY5BFZN57QXL26KLAEH533VC46MWMS7OBSGQQ5LQUML6P3NZGJPEAM Reserve:AXTRKY5BFZN57QXL26KLAEH533VC46MWMS7OBSGQQ5LQUML6P3NZGJPEAM Freeze:AXTRKY5BFZN57QXL26KLAEH533VC46MWMS7OBSGQQ5LQUML6P3NZGJPEAM Clawback:AXTRKY5BFZN57QXL26KLAEH533VC46MWMS7OBSGQQ5LQUML6P3NZGJPEAM}} AssetTransferTxnFields:{_struct:{} XferAsset:0 AssetAmount:0 AssetSender:AAAAAAAAAAAAAAAAAAAAAAAAAAAAAAAAAAAAAAAAAAAAAAAAAAAAY5HFKQ AssetReceiver:AAAAAAAAAAAAAAAAAAAAAAAAAAAAAAAAAAAAAAAAAAAAAAAAAAAAY5HFKQ AssetCloseTo:AAAAAAAAAAAAAAAAAAAAAAAAAAAAAAAAAAAAAAAAAAAAAAAAAAAAY5HFKQ} AssetFreezeTxnFields:{_struct:{} FreezeAccount:AAAAAAAAAAAAAAAAAAAAAAAAAAAAAAAAAAAAAAAAAAAAAAAAAAAAY5HFKQ FreezeAsset:0 AssetFrozen:false} ApplicationCallTxnFields:{_struct:{} ApplicationID:0 OnCompletion:NoOpOC ApplicationArgs:[] Accounts:[] ForeignApps:[] Boxes:[] ForeignAssets:[] LocalStateSchema:{_struct:{} NumUint:0 NumByteSlice:0} GlobalStateSchema:{_struct:{} NumUint:0 NumByteSlice:0} ApprovalProgram:[] ClearStateProgram:[] ExtraProgramPages:0} StateProofTxnFields:{_struct:{} StateProofType:0 StateProof:StateProof: {} Message:{_struct:{} BlockHeadersCommitment:[] VotersCommitment:[] LnProvenWeight:0 FirstAttestedRound:0 LastAttestedRound:0}}} AuthAddr:PBXAJOJLKYYDAANOX3BVH5PUZDWRWDQNW4ESN4BS6IXBJ7N2LMQZBCTYIM} invalid : transaction asset url too big: 107 > 96"
     ]
    }
   ],
   "source": [
    "sp = algod_client.suggested_params()\n",
    "txn = transaction.AssetConfigTxn(\n",
    "    sender=pub1,\n",
    "    sp=sp,\n",
    "    default_frozen=False,\n",
    "    unit_name=\"rug\",\n",
    "    asset_name=\"Really Useful Gift\",\n",
    "    manager=pub1,\n",
    "    reserve=pub1,\n",
    "    freeze=pub1,\n",
    "    clawback=pub1,\n",
    "    url=\"http://blue-deliberate-tyrannosaurus-532.mypinata.cloud/ipfs/QmQEA2YasZHhzLg3Fo7rtzjvBwD5oAi3Hab9qDB49cqsNL\",\n",
    "    total=1,\n",
    "    decimals=0,\n",
    ")\n",
    "\n",
    "# Sign with secret key of creator\n",
    "stxn = txn.sign(pk1)\n",
    "# Send the transaction to the network and retrieve the txid.\n",
    "txid = algod_client.send_transaction(stxn)\n",
    "print(f\"Sent asset create transaction with txid: {txid}\")\n",
    "# Wait for the transaction to be confirmed\n",
    "results = transaction.wait_for_confirmation(algod_client, txid, 4)\n",
    "print(f\"Result confirmed in round: {results['confirmed-round']}\")\n",
    "\n",
    "# grab the asset id for the asset we just created\n",
    "created_asset = results[\"asset-index\"]\n",
    "print(f\"Asset ID created: {created_asset}\")"
   ]
  },
  {
   "cell_type": "code",
   "execution_count": null,
   "metadata": {},
   "outputs": [],
   "source": []
  }
 ],
 "metadata": {
  "kernelspec": {
   "display_name": "wk5",
   "language": "python",
   "name": "python3"
  },
  "language_info": {
   "codemirror_mode": {
    "name": "ipython",
    "version": 3
   },
   "file_extension": ".py",
   "mimetype": "text/x-python",
   "name": "python",
   "nbconvert_exporter": "python",
   "pygments_lexer": "ipython3",
   "version": "3.12.0"
  }
 },
 "nbformat": 4,
 "nbformat_minor": 2
}
